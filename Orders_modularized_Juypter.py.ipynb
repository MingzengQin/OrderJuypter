{
 "cells": [
  {
   "cell_type": "code",
   "execution_count": null,
   "id": "3ac64d1c",
   "metadata": {},
   "outputs": [],
   "source": []
  },
  {
   "cell_type": "code",
   "execution_count": null,
   "id": "35ad7e8b",
   "metadata": {},
   "outputs": [],
   "source": []
  },
  {
   "cell_type": "markdown",
   "id": "c8d7a160",
   "metadata": {},
   "source": [
    "## **1. Importing Libraries**\n"
   ]
  },
  {
   "cell_type": "code",
   "execution_count": null,
   "id": "1154c524",
   "metadata": {},
   "outputs": [],
   "source": [
    "import pandas as pd\n",
    "from geopy.geocoders import Nominatim\n",
    "from geopy.distance import geodesic"
   ]
  },
  {
   "cell_type": "markdown",
   "id": "ab539988",
   "metadata": {},
   "source": [
    "- **Purpose**:\n",
    "  - `pandas`: For data manipulation and reading CSV files.\n",
    "  - `geopy`: For retrieving geographic coordinates and calculating distances.\n",
    "\n",
    "---\n",
    "\n",
    "## **2. Aggregating Customer Payment Amounts**"
   ]
  },
  {
   "cell_type": "code",
   "execution_count": null,
   "id": "c2ec2455",
   "metadata": {},
   "outputs": [],
   "source": [
    "def aggregate_customer_spend(chunk):\n",
    "    \"\"\"\n",
    "    Aggregates customer payment amount by customer_id.\n",
    "\n",
    "    Args:\n",
    "    chunk (DataFrame): A chunk of the orders DataFrame.\n",
    "\n",
    "    Returns:\n",
    "    DataFrame: Aggregated customer payment amount per customer_id.\n",
    "    \"\"\"\n",
    "    agg_functions = {'customer_payment_amount': 'sum'}\n",
    "    return chunk.groupby('customer_id').aggregate(agg_functions)"
   ]
  },
  {
   "cell_type": "markdown",
   "id": "cd6240c5",
   "metadata": {},
   "source": [
    "- **Purpose**: Calculate the total payment amount per customer (`customer_id`).\n",
    "\n",
    "---\n",
    "\n",
    "## **3. Counting Occurrences in Lists**"
   ]
  },
  {
   "cell_type": "code",
   "execution_count": null,
   "id": "86553323",
   "metadata": {},
   "outputs": [],
   "source": [
    "def count_occurrences(lists):\n",
    "    \"\"\"\n",
    "    Counts occurrences of elements in a list.\n",
    "\n",
    "    Args:\n",
    "    lists (list): List of elements to count.\n",
    "\n",
    "    Returns:\n",
    "    dict: Dictionary with elements as keys and their counts as values.\n",
    "    \"\"\"\n",
    "    count_dict = {}\n",
    "    for i in lists:\n",
    "        if i in count_dict:\n",
    "            count_dict[i] += 1\n",
    "        else:\n",
    "            count_dict[i] = 1\n",
    "    return count_dict\n"
   ]
  },
  {
   "cell_type": "markdown",
   "id": "92349a7e",
   "metadata": {},
   "source": [
    "- **Purpose**: Count how often each source or destination appears.\n",
    "\n",
    "---\n",
    "\n",
    "## **4. Geocoding Locations to Coordinates**"
   ]
  },
  {
   "cell_type": "code",
   "execution_count": null,
   "id": "54d3e743",
   "metadata": {},
   "outputs": [],
   "source": [
    "def get_coordinates(locations):\n",
    "    \"\"\"\n",
    "    Retrieves coordinates for a list of locations.\n",
    "\n",
    "    Args:\n",
    "    locations (list): List of location names.\n",
    "\n",
    "    Returns:\n",
    "    tuple: Two lists containing latitudes and longitudes.\n",
    "    \"\"\"\n",
    "    loc = Nominatim(user_agent=\"GetLoc\")\n",
    "    latitudes = []\n",
    "    longitudes = []\n",
    "    for location in locations:\n",
    "        getLoc = loc.geocode(location)\n",
    "        latitudes.append(getLoc.latitude)\n",
    "        longitudes.append(getLoc.longitude)\n",
    "    return latitudes, longitudes"
   ]
  },
  {
   "cell_type": "markdown",
   "id": "cb53f41c",
   "metadata": {},
   "source": [
    "- **Purpose**: Convert location names into geographic coordinates.\n",
    "\n",
    "---\n",
    "\n",
    "## **5. Calculating Distances Between Locations**"
   ]
  },
  {
   "cell_type": "code",
   "execution_count": null,
   "id": "11b3a0dc",
   "metadata": {},
   "outputs": [],
   "source": [
    "def calculate_distances(source_coords, destination_coords):\n",
    "    \"\"\"\n",
    "    Calculates distances between pairs of source and destination coordinates.\n",
    "\n",
    "    Args:\n",
    "    source_coords (list): List of tuples containing source coordinates (latitude, longitude).\n",
    "    destination_coords (list): List of tuples containing destination coordinates (latitude, longitude).\n",
    "\n",
    "    Returns:\n",
    "    list: List of distances in miles.\n",
    "    \"\"\"\n",
    "    distances = []\n",
    "    for i in range(len(source_coords)):\n",
    "        distance = geodesic(source_coords[i], destination_coords[i]).miles\n",
    "        distances.append(distance)\n",
    "    return distances"
   ]
  },
  {
   "cell_type": "markdown",
   "id": "f6ef9ffe",
   "metadata": {},
   "source": [
    "- **Purpose**: Measure the distance between each source and destination in miles.\n",
    "\n",
    "---\n",
    "\n",
    "## **6. Calculating Cost Per Mile**"
   ]
  },
  {
   "cell_type": "code",
   "execution_count": null,
   "id": "24b65c1b",
   "metadata": {},
   "outputs": [],
   "source": [
    "def calculate_cost_per_mile(payment_amounts, weights, distances):\n",
    "    \"\"\"\n",
    "    Calculates cost per mile.\n",
    "\n",
    "    Args:\n",
    "    payment_amounts (list): List of customer payment amounts.\n",
    "    weights (list): List of item weights.\n",
    "    distances (list): List of distances.\n",
    "\n",
    "    Returns:\n",
    "    list: List of cost per mile.\n",
    "    \"\"\"\n",
    "    cost_per_mile = []\n",
    "    for i in range(len(payment_amounts)):\n",
    "        cost = payment_amounts[i] / (weights[i] * distances[i])\n",
    "        cost_per_mile.append(float(cost))\n",
    "    return cost_per_mile"
   ]
  },
  {
   "cell_type": "markdown",
   "id": "13e8d0e9",
   "metadata": {},
   "source": [
    "- **Purpose**: Evaluate the cost per mile for each order.\n",
    "\n",
    "---\n",
    "\n",
    "## **7. Main Function for Chunk-Based Processing**"
   ]
  },
  {
   "cell_type": "code",
   "execution_count": null,
   "id": "a00d5fa2",
   "metadata": {},
   "outputs": [],
   "source": [
    "```python\n",
    "def main():\n",
    "    chunksize = 100\n",
    "    orders = pd.read_csv(\"/Users/xiaye/Downloads/orders.csv\", chunksize=chunksize)\n",
    "    \n",
    "    for chunk in orders:\n",
    "        agg_spend_per_customer = aggregate_customer_spend(chunk)\n",
    "        source_counts = count_occurrences(chunk['source'])\n",
    "        destination_counts = count_occurrences(chunk['destination'])\n",
    "        total_orders = len(chunk['source'])\n",
    "        \n",
    "        source_coords = get_coordinates(chunk['source'])\n",
    "        destination_coords = get_coordinates(chunk['destination'])\n",
    "        \n",
    "        distances = calculate_distances(list(zip(*source_coords)), list(zip(*destination_coords)))\n",
    "        cost_per_mile = calculate_cost_per_mile(chunk['customer_payment_amount'], chunk['item_weight'], distances)\n",
    "        \n",
    "        print(agg_spend_per_customer)\n",
    "        print(\"Total number of orders is\", total_orders)\n",
    "        print(\"The distribution of source is:\", source_counts, sep='\\n')\n",
    "        print(\"The distribution of destination is:\", destination_counts, sep='\\n')\n",
    "        \n",
    "        printed_items = set()\n",
    "        for i in range(len(chunk['source'])):\n",
    "            item = (chunk['source'][i], chunk['destination'][i], cost_per_mile[i])\n",
    "            if item not in printed_items:\n",
    "                print(f\"source: {item[0]}\")\n",
    "                print(f\"destination: {item[1]}\")\n",
    "                print(f\"cost_per_mile: {item[2]:.2f}\\n\")\n",
    "                printed_items.add(item)\n",
    "\n",
    "if __name__ == \"__main__\":\n",
    "    main()"
   ]
  },
  {
   "cell_type": "markdown",
   "id": "6bef1b8c",
   "metadata": {},
   "source": [
    "- **Purpose**:\n",
    "  - Process orders dataset in chunks.\n",
    "  - Aggregate payment data, calculate distances, and evaluate cost per mile.\n",
    "  - Print results for each chunk.\n"
   ]
  },
  {
   "cell_type": "code",
   "execution_count": null,
   "id": "5add469e",
   "metadata": {},
   "outputs": [],
   "source": []
  },
  {
   "cell_type": "code",
   "execution_count": null,
   "id": "b12fc5f1",
   "metadata": {},
   "outputs": [],
   "source": []
  },
  {
   "cell_type": "code",
   "execution_count": null,
   "id": "559160e5",
   "metadata": {},
   "outputs": [],
   "source": []
  },
  {
   "cell_type": "code",
   "execution_count": null,
   "id": "fd3de221",
   "metadata": {},
   "outputs": [],
   "source": []
  }
 ],
 "metadata": {
  "kernelspec": {
   "display_name": "Python 3 (ipykernel)",
   "language": "python",
   "name": "python3"
  },
  "language_info": {
   "codemirror_mode": {
    "name": "ipython",
    "version": 3
   },
   "file_extension": ".py",
   "mimetype": "text/x-python",
   "name": "python",
   "nbconvert_exporter": "python",
   "pygments_lexer": "ipython3",
   "version": "3.11.5"
  }
 },
 "nbformat": 4,
 "nbformat_minor": 5
}
