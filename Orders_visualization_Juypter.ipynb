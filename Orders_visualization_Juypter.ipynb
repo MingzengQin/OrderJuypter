{
 "cells": [
  {
   "cell_type": "markdown",
   "id": "d1c54292",
   "metadata": {},
   "source": [
    "\n",
    "\n",
    "# **1. Importing Libraries and Initial Setup**\n"
   ]
  },
  {
   "cell_type": "code",
   "execution_count": 4,
   "id": "b792264f",
   "metadata": {},
   "outputs": [],
   "source": [
    "import pandas as pd\n",
    "from geopy.geocoders import Nominatim\n",
    "from geopy.distance import geodesic\n",
    "import matplotlib.pyplot as plt\n",
    "import seaborn as sns\n",
    "\n",
    "chunksize = 100\n",
    "orders = pd.read_csv(\"/Users/xiaye/Downloads/orders.csv\", chunksize=chunksize)"
   ]
  },
  {
   "cell_type": "markdown",
   "id": "490e8a71",
   "metadata": {},
   "source": [
    "- **Purpose**:\n",
    "  - Import libraries for data manipulation (`pandas`), geolocation (`geopy`), and visualization (`matplotlib`, `seaborn`).\n",
    "  - Define the size of chunks to read the dataset incrementally.\n",
    "\n",
    "---\n",
    "\n",
    "## **2. Aggregating Customer Payment Amount**"
   ]
  },
  {
   "cell_type": "code",
   "execution_count": null,
   "id": "e4a0da04",
   "metadata": {},
   "outputs": [],
   "source": [
    "def aggregate_customer_spend(chunk):\n",
    "    \"\"\"\n",
    "    Aggregates customer payment amount by customer_id.\n",
    "\n",
    "    Args:\n",
    "    chunk (DataFrame): A chunk of the orders DataFrame.\n",
    "\n",
    "    Returns:\n",
    "    DataFrame: Aggregated customer payment amount per customer_id.\n",
    "    \"\"\"\n",
    "    agg_functions = {'customer_payment_amount': 'sum'}\n",
    "    return chunk.groupby('customer_id').aggregate(agg_functions)"
   ]
  },
  {
   "cell_type": "markdown",
   "id": "e9b2ecce",
   "metadata": {},
   "source": [
    "- **Purpose**: Calculates the total payment amount for each customer (`customer_id`) within a data chunk.\n",
    "\n",
    "---\n",
    "\n",
    "## **3. Counting Occurrences**"
   ]
  },
  {
   "cell_type": "code",
   "execution_count": null,
   "id": "9bd025b1",
   "metadata": {},
   "outputs": [],
   "source": [
    "def count_occurrences(lists):\n",
    "    \"\"\"\n",
    "    Counts occurrences of elements in a list.\n",
    "\n",
    "    Args:\n",
    "    lists (list): List of elements to count.\n",
    "\n",
    "    Returns:\n",
    "    dict: Dictionary with elements as keys and their counts as values.\n",
    "    \"\"\"\n",
    "    count_dict = {}\n",
    "    for i in lists:\n",
    "        if i in count_dict:\n",
    "            count_dict[i] += 1\n",
    "        else:\n",
    "            count_dict[i] = 1\n",
    "    return count_dict"
   ]
  },
  {
   "cell_type": "markdown",
   "id": "c4487018",
   "metadata": {},
   "source": [
    "- **Purpose**: Determines the frequency distribution of source or destination locations.\n",
    "\n",
    "---\n",
    "\n",
    "## **4. Geocoding Location Coordinates**"
   ]
  },
  {
   "cell_type": "code",
   "execution_count": null,
   "id": "39b14672",
   "metadata": {},
   "outputs": [],
   "source": [
    "def get_coordinates(locations):\n",
    "    \"\"\"\n",
    "    Retrieves coordinates for a list of locations.\n",
    "    \n",
    "    Args:\n",
    "    locations (list): List of location names.\n",
    "\n",
    "    Returns:\n",
    "    tuple: Two lists containing latitudes and longitudes.\n",
    "    \"\"\"\n",
    "    loc = Nominatim(user_agent=\"GetLoc\")\n",
    "    latitudes = []\n",
    "    longitudes = []\n",
    "    for location in locations:\n",
    "        getLoc = loc.geocode(location)\n",
    "        latitudes.append(getLoc.latitude)\n",
    "        longitudes.append(getLoc.longitude)\n",
    "    return latitudes, longitudes"
   ]
  },
  {
   "cell_type": "markdown",
   "id": "e9018589",
   "metadata": {},
   "source": [
    "- **Purpose**: Converts location names into geographic coordinates (latitude and longitude).\n",
    "\n",
    "---\n",
    "\n",
    "## **5. Calculating Distances Between Locations**"
   ]
  },
  {
   "cell_type": "code",
   "execution_count": null,
   "id": "90958beb",
   "metadata": {},
   "outputs": [],
   "source": [
    "def calculate_distances(source_coords, destination_coords):\n",
    "    \"\"\"\n",
    "    Calculates distances between pairs of source and destination coordinates.\n",
    "    \n",
    "    Args:\n",
    "    source_coords (list): List of tuples containing source coordinates (latitude, longitude).\n",
    "    destination_coords (list): List of tuples containing destination coordinates (latitude, longitude).\n",
    "\n",
    "    Returns:\n",
    "    list: List of distances in miles.\n",
    "    \"\"\"\n",
    "    distances = []\n",
    "    for i in range(len(source_coords)):\n",
    "        distance = geodesic(source_coords[i], destination_coords[i]).miles\n",
    "        distances.append(distance)\n",
    "    return distances"
   ]
  },
  {
   "cell_type": "markdown",
   "id": "6831e76a",
   "metadata": {},
   "source": [
    "- **Purpose**: Computes the geodesic distance (in miles) between pairs of source and destination locations.\n",
    "\n",
    "---\n",
    "\n",
    "## **6. Calculating Cost Per Mile**"
   ]
  },
  {
   "cell_type": "code",
   "execution_count": null,
   "id": "25284e47",
   "metadata": {},
   "outputs": [],
   "source": [
    "def calculate_cost_per_mile(payment_amounts, weights, distances):\n",
    "    \"\"\"\n",
    "    Calculates cost per mile.\n",
    "\n",
    "    Args:\n",
    "    payment_amounts (list): List of customer payment amounts.\n",
    "    weights (list): List of item weights.\n",
    "    distances (list): List of distances.\n",
    "\n",
    "    Returns:\n",
    "    list: List of cost per mile.\n",
    "    \"\"\"\n",
    "    cost_per_mile = []\n",
    "    for i in range(len(payment_amounts)):\n",
    "        cost = payment_amounts[i] / (weights[i] * distances[i])\n",
    "        cost_per_mile.append(float(cost))\n",
    "    return cost_per_mile"
   ]
  },
  {
   "cell_type": "markdown",
   "id": "f4da60a6",
   "metadata": {},
   "source": [
    "- **Purpose**: Evaluates the cost per mile for each order based on payment amount, item weight, and distance.\n",
    "\n",
    "---\n",
    "\n",
    "## **7. Plotting Source and Destination Distribution**"
   ]
  },
  {
   "cell_type": "code",
   "execution_count": null,
   "id": "9c4a192f",
   "metadata": {},
   "outputs": [],
   "source": [
    "def plot_source_destination_distribution(chunk):\n",
    "    \"\"\"\n",
    "    Plots the distribution of source and destination locations.\n",
    "\n",
    "    Args:\n",
    "    chunk (DataFrame): A chunk of the orders DataFrame.\n",
    "    \"\"\"\n",
    "    plt.figure(figsize=(10, 6))\n",
    "    sns.countplot(y='source', data=chunk, order=chunk['source'].value_counts().index)\n",
    "    plt.title('Count of Orders by Source Location')\n",
    "    plt.xlabel('Number of Orders')\n",
    "    plt.ylabel('Source Location')\n",
    "    plt.show()\n",
    "\n",
    "    plt.figure(figsize=(10, 6))\n",
    "    sns.countplot(y='destination', data=chunk, order=chunk['destination'].value_counts().index)\n",
    "    plt.title('Count of Orders by Destination Location')\n",
    "    plt.xlabel('Number of Orders')\n",
    "    plt.ylabel('Destination Location')\n",
    "    plt.show()"
   ]
  },
  {
   "cell_type": "markdown",
   "id": "1117c574",
   "metadata": {},
   "source": [
    "- **Purpose**: Visualizes the frequency distribution of source and destination locations using bar plots.\n",
    "\n",
    "---\n",
    "\n",
    "## **8. Plotting Customer Payment Amount**"
   ]
  },
  {
   "cell_type": "code",
   "execution_count": null,
   "id": "b6ecf915",
   "metadata": {},
   "outputs": [],
   "source": [
    "def plot_customer_payment_amount(chunk):\n",
    "    \"\"\"\n",
    "    Plots a boxplot of customer payment amounts.\n",
    "\n",
    "    Args:\n",
    "    chunk (DataFrame): A chunk of the orders DataFrame.\n",
    "    \"\"\"\n",
    "    plt.figure(figsize=(20, 6))\n",
    "    sns.boxplot(x='customer_payment_amount', data=chunk)\n",
    "    plt.title('Boxplot of Customer Payment Amounts')\n",
    "    plt.xlabel('Customer Payment Amount')\n",
    "    plt.show()\n"
   ]
  },
  {
   "cell_type": "markdown",
   "id": "697b5ae3",
   "metadata": {},
   "source": [
    "- **Purpose**: Displays the spread and outliers of customer payment amounts using a boxplot.\n",
    "\n",
    "---\n",
    "\n",
    "## **9. Printing Cost Per Mile**"
   ]
  },
  {
   "cell_type": "code",
   "execution_count": null,
   "id": "ee410912",
   "metadata": {},
   "outputs": [],
   "source": [
    "def print_cost_per_mile(chunk, cost_per_mile):\n",
    "    \"\"\"\n",
    "    Prints the cost per mile for each source and destination pair.\n",
    "\n",
    "    Args:\n",
    "    chunk (DataFrame): A chunk of the orders DataFrame.\n",
    "    cost_per_mile (list): List of cost per mile values.\n",
    "    \"\"\"\n",
    "    printed_items = set()\n",
    "    for i in range(len(chunk['source'])):\n",
    "        item = (chunk['source'][i], chunk['destination'][i], cost_per_mile[i])\n",
    "        if item not in printed_items:\n",
    "            print(f\"source: {item[0]}\")\n",
    "            print(f\"destination: {item[1]}\")\n",
    "            print(f\"cost_per_mile: {item[2]:.2f}\\n\")\n",
    "            printed_items.add(item)"
   ]
  },
  {
   "cell_type": "markdown",
   "id": "22f2c6bf",
   "metadata": {},
   "source": [
    "- **Purpose**: Outputs cost per mile for unique source-destination pairs.\n",
    "\n",
    "---\n",
    "\n",
    "## **10. Main Loop for Processing Chunks**"
   ]
  },
  {
   "cell_type": "code",
   "execution_count": null,
   "id": "29ea479e",
   "metadata": {},
   "outputs": [],
   "source": [
    "for chunk in orders:\n",
    "    source_coords = get_coordinates(chunk['source'])\n",
    "    destination_coords = get_coordinates(chunk['destination'])\n",
    "    distances = calculate_distances(list(zip(*source_coords)), list(zip(*destination_coords)))\n",
    "    cost_per_mile = calculate_cost_per_mile(chunk['customer_payment_amount'], chunk['item_weight'], distances)\n",
    "\n",
    "    print(aggregate_customer_spend(chunk))\n",
    "    print(\"Total number of orders is\", len(chunk['source']))\n",
    "    print(\"The distribution of source is:\", count_occurrences(chunk['source']), sep='\\n')\n",
    "    print(\"The distribution of destination is:\", count_occurrences(chunk['destination']), sep='\\n')\n",
    "    plot_source_destination_distribution(chunk)\n",
    "    plot_customer_payment_amount(chunk)\n",
    "    print_cost_per_mile(chunk, cost_per_mile)"
   ]
  },
  {
   "cell_type": "markdown",
   "id": "bb83e57d",
   "metadata": {},
   "source": [
    "- **Purpose**:\n",
    "  - Process data incrementally in chunks.\n",
    "  - Perform aggregation, visualization, and analysis for each chunk of the dataset."
   ]
  },
  {
   "cell_type": "code",
   "execution_count": null,
   "id": "af707a0b",
   "metadata": {},
   "outputs": [],
   "source": []
  }
 ],
 "metadata": {
  "kernelspec": {
   "display_name": "Python 3 (ipykernel)",
   "language": "python",
   "name": "python3"
  },
  "language_info": {
   "codemirror_mode": {
    "name": "ipython",
    "version": 3
   },
   "file_extension": ".py",
   "mimetype": "text/x-python",
   "name": "python",
   "nbconvert_exporter": "python",
   "pygments_lexer": "ipython3",
   "version": "3.11.5"
  }
 },
 "nbformat": 4,
 "nbformat_minor": 5
}
