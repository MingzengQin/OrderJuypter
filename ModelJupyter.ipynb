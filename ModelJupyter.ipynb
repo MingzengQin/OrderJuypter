{
 "cells": [
  {
   "cell_type": "markdown",
   "id": "6fa05a6d",
   "metadata": {},
   "source": [
    "## **1. Importing Necessary Libraries**"
   ]
  },
  {
   "cell_type": "code",
   "execution_count": 1,
   "id": "4be1ebbc",
   "metadata": {},
   "outputs": [],
   "source": [
    "import pandas as pd\n",
    "import numpy as np\n",
    "from sklearn.model_selection import train_test_split\n",
    "from sklearn.preprocessing import StandardScaler\n",
    "from sklearn.linear_model import LogisticRegression\n",
    "from sklearn.metrics import classification_report, confusion_matrix"
   ]
  },
  {
   "cell_type": "markdown",
   "id": "43185805",
   "metadata": {},
   "source": [
    "- **Purpose**: Import libraries required for data manipulation (`pandas`, `numpy`), model training (`sklearn`), and evaluation.\n"
   ]
  },
  {
   "cell_type": "markdown",
   "id": "583511fd",
   "metadata": {},
   "source": [
    "## **2. Generating a Sample Dataset**"
   ]
  },
  {
   "cell_type": "code",
   "execution_count": null,
   "id": "0e4e1fcf",
   "metadata": {},
   "outputs": [],
   "source": [
    "# Generate a sample dataset\n",
    "np.random.seed(42)\n",
    "n_samples = 1000\n",
    "\n",
    "data = {\n",
    "    'distance': np.random.uniform(50, 1000, n_samples),\n",
    "    'weight': np.random.uniform(0.5, 10, n_samples),\n",
    "    'priority': np.random.choice(['low', 'medium', 'high'], n_samples),\n",
    "    'weather_condition': np.random.choice(['normal', 'rain', 'snow', 'extreme weather alert'], n_samples),\n",
    "    'on_time': np.random.choice([0, 1], n_samples)\n",
    "}\n",
    "df = pd.DataFrame(data)"
   ]
  },
  {
   "cell_type": "markdown",
   "id": "1f7ad2d8",
   "metadata": {},
   "source": [
    "##- **Purpose**: Create a synthetic dataset with 5 features:\n",
    "  - `distance`: Numeric feature (50 to 1000).\n",
    "  - `weight`: Numeric feature (0.5 to 10).\n",
    "  - `priority`: Categorical feature with values `low`, `medium`, `high`.\n",
    "  - `weather_condition`: Categorical feature with values `normal`, `rain`, `snow`, `extreme weather alert`.\n",
    "  - `on_time`: Target variable (binary: `0` for late, `1` for on time).\n"
   ]
  },
  {
   "cell_type": "markdown",
   "id": "3a3a42ae",
   "metadata": {},
   "source": [
    "## **3. Converting Categorical Variables to Numeric**\n"
   ]
  },
  {
   "cell_type": "code",
   "execution_count": null,
   "id": "16423b3a",
   "metadata": {},
   "outputs": [],
   "source": [
    "# Convert categorical variables to numeric\n",
    "df['priority'] = pd.Categorical(df['priority']).codes\n",
    "df['weather_condition'] = pd.Categorical(df['weather_condition']).codes"
   ]
  },
  {
   "cell_type": "markdown",
   "id": "7fa8a2a9",
   "metadata": {},
   "source": [
    "- **Purpose**: Transform categorical features (`priority` and `weather_condition`) into numeric codes for model compatibility.\n",
    "## **4. Splitting Features and Target**\n"
   ]
  },
  {
   "cell_type": "code",
   "execution_count": null,
   "id": "969c9ef3",
   "metadata": {},
   "outputs": [],
   "source": [
    "# Split features and target\n",
    "X = df[['distance', 'weight', 'priority', 'weather_condition']]\n",
    "y = df['on_time']"
   ]
  },
  {
   "cell_type": "markdown",
   "id": "d2cba3e6",
   "metadata": {},
   "source": [
    "- **Purpose**: Separate the dataset into:\n",
    "  - `X`: Features (input variables).\n",
    "  - `y`: Target (output variable).\n",
    "  \n",
    "## **5. Splitting Data into Training and Testing Sets**\n"
   ]
  },
  {
   "cell_type": "code",
   "execution_count": null,
   "id": "288bbe45",
   "metadata": {},
   "outputs": [],
   "source": [
    "# Split the data into training and testing sets\n",
    "X_train, X_test, y_train, y_test = train_test_split(X, y, test_size=0.2, random_state=42)"
   ]
  },
  {
   "cell_type": "markdown",
   "id": "f8c1f18b",
   "metadata": {},
   "source": [
    "- **Purpose**: Split the data into training (80%) and testing (20%) sets for model evaluation.\n",
    "## **6. Scaling the Features**\n"
   ]
  },
  {
   "cell_type": "code",
   "execution_count": null,
   "id": "ebcdb270",
   "metadata": {},
   "outputs": [],
   "source": [
    "# Scale the features\n",
    "scaler = StandardScaler()\n",
    "X_train_scaled = scaler.fit_transform(X_train)\n",
    "X_test_scaled = scaler.transform(X_test)"
   ]
  },
  {
   "cell_type": "markdown",
   "id": "d0ce858c",
   "metadata": {},
   "source": [
    "- **Purpose**: Standardize the features to ensure they have a mean of 0 and a standard deviation of 1 for better model performance.\n",
    "## **7. Training the Logistic Regression Model**\n"
   ]
  },
  {
   "cell_type": "code",
   "execution_count": null,
   "id": "cfecab28",
   "metadata": {},
   "outputs": [],
   "source": [
    "# Create and train the logistic regression model\n",
    "model = LogisticRegression(random_state=42)\n",
    "model.fit(X_train_scaled, y_train)"
   ]
  },
  {
   "cell_type": "markdown",
   "id": "963cf028",
   "metadata": {},
   "source": [
    "- **Purpose**: Train a logistic regression model on the scaled training data.\n",
    "\n",
    "\n",
    "## **8. Making Predictions on the Test Set**"
   ]
  },
  {
   "cell_type": "code",
   "execution_count": null,
   "id": "837e52ec",
   "metadata": {},
   "outputs": [],
   "source": [
    "# Make predictions on the test set\n",
    "y_pred = model.predict(X_test_scaled)"
   ]
  },
  {
   "cell_type": "markdown",
   "id": "068dfd02",
   "metadata": {},
   "source": [
    "- **Purpose**: Use the trained model to predict delivery status (`on_time`) for the testing set.\n",
    "\n",
    "---\n",
    "\n",
    "## **9. Evaluating the Model**"
   ]
  },
  {
   "cell_type": "code",
   "execution_count": null,
   "id": "e03d0dde",
   "metadata": {},
   "outputs": [],
   "source": [
    "# Print model evaluation metrics\n",
    "print(\"Confusion Matrix:\")\n",
    "print(confusion_matrix(y_test, y_pred))\n",
    "print(\"\\nClassification Report:\")\n",
    "print(classification_report(y_test, y_pred))"
   ]
  },
  {
   "cell_type": "markdown",
   "id": "77b39d7e",
   "metadata": {},
   "source": [
    "- **Purpose**: Assess the model's performance using:\n",
    "  - **Confusion Matrix**: Shows true positives, true negatives, false positives, and false negatives.\n",
    "  - **Classification Report**: Displays precision, recall, F1-score, and support for each class.\n",
    "\n",
    "---\n",
    "\n",
    "## **10. Analyzing Feature Coefficients**"
   ]
  },
  {
   "cell_type": "code",
   "execution_count": null,
   "id": "13d3c774",
   "metadata": {},
   "outputs": [],
   "source": [
    "# Print feature coefficients\n",
    "feature_names = X.columns\n",
    "coefficients = model.coef_[0]\n",
    "for name, coef in zip(feature_names, coefficients):\n",
    "    print(f\"{name}: {coef}\")"
   ]
  },
  {
   "cell_type": "markdown",
   "id": "13aa86f3",
   "metadata": {},
   "source": [
    "- **Purpose**: Interpret the impact of each feature on the prediction by displaying the logistic regression coefficients.\n",
    "\n",
    "---\n",
    "\n",
    "## **11. Predicting Delivery Status for a New Package**"
   ]
  },
  {
   "cell_type": "code",
   "execution_count": null,
   "id": "3d65d9e5",
   "metadata": {},
   "outputs": [],
   "source": [
    "# Function to predict delivery status for a new package\n",
    "def predict_delivery(distance, weight, priority, weather_condition):\n",
    "    priority_map = {'low': 0, 'medium': 1, 'high': 2}\n",
    "    weather_map = {'normal': 0, 'rain': 1, 'snow': 2, 'extreme weather alert': 3}\n",
    "    \n",
    "    features = np.array([[\n",
    "        distance,\n",
    "        weight,\n",
    "        priority_map[priority],\n",
    "        weather_map[weather_condition]\n",
    "    ]])\n",
    "    \n",
    "    scaled_features = scaler.transform(features)\n",
    "    prediction = model.predict(scaled_features)\n",
    "    probability = model.predict_proba(scaled_features)[0][1]\n",
    "    \n",
    "    return \"On time\" if prediction[0] == 1 else \"Not on time\", probability"
   ]
  },
  {
   "cell_type": "code",
   "execution_count": null,
   "id": "52da1402",
   "metadata": {},
   "outputs": [],
   "source": [
    "# Example usage\n",
    "result, prob = predict_delivery(500, 5, 'medium', 'rain')\n",
    "print(f\"\\nPrediction for a new package: {result}\")\n",
    "print(f\"Probability of being on time: {prob:.2f}\")"
   ]
  },
  {
   "cell_type": "markdown",
   "id": "a13e2293",
   "metadata": {},
   "source": [
    "- **Purpose**: Predict delivery status and probability for a new package based on its features:\n",
    "  - `distance`, `weight`, `priority`, and `weather_condition`.\n",
    "  - Returns whether the delivery is predicted to be \"On time\" or \"Not on time\" with the probability."
   ]
  },
  {
   "cell_type": "code",
   "execution_count": null,
   "id": "948b9a14",
   "metadata": {},
   "outputs": [],
   "source": []
  }
 ],
 "metadata": {
  "kernelspec": {
   "display_name": "Python 3 (ipykernel)",
   "language": "python",
   "name": "python3"
  },
  "language_info": {
   "codemirror_mode": {
    "name": "ipython",
    "version": 3
   },
   "file_extension": ".py",
   "mimetype": "text/x-python",
   "name": "python",
   "nbconvert_exporter": "python",
   "pygments_lexer": "ipython3",
   "version": "3.11.5"
  }
 },
 "nbformat": 4,
 "nbformat_minor": 5
}
